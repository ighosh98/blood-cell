{
  "cells": [
    {
      "metadata": {
        "trusted": true,
        "_uuid": "cf775b5c9469866680fddf6f8f3290d417ced99a"
      },
      "cell_type": "code",
      "source": "import numpy as np\nimport pandas as pd\nimport keras\nfrom keras.models import Sequential, Model\nfrom keras.layers import Dense, Dropout, Activation, Flatten, Bidirectional, Conv2D, MaxPooling2D, Lambda, MaxPool2D, BatchNormalization, Input, concatenate, K, Reshape, LSTM\nfrom keras.utils import np_utils\nfrom keras.preprocessing.image import ImageDataGenerator\nfrom keras.optimizers import RMSprop\nfrom keras.callbacks import Callback, EarlyStopping, ReduceLROnPlateau, ModelCheckpoint, TensorBoard\nfrom keras.utils.np_utils import to_categorical\nfrom sklearn.preprocessing import LabelEncoder\nfrom sklearn.model_selection import train_test_split\nfrom sklearn.metrics import confusion_matrix\nfrom sklearn.metrics import accuracy_score\nimport xml.etree.ElementTree as ET\nimport sklearn\nimport itertools\nimport cv2\nimport scipy\nimport os\nimport csv\nimport matplotlib.pyplot as plt\n%matplotlib inline\nfrom tqdm import tqdm",
      "execution_count": null,
      "outputs": []
    },
    {
      "metadata": {
        "trusted": true,
        "_uuid": "8d88ddf0def2d1d394e2f4a00677ce76c36082cd"
      },
      "cell_type": "code",
      "source": "class1 = {1:'NEUTROPHIL',2:'EOSINOPHIL',3:'MONOCYTE',4:'LYMPHOCYTE'}\nclass2 = {0:'Mononuclear',1:'Polynuclear'}\ntree_path = '../input/dataset-master/dataset-master/Annotations'\nimage_path = '../input/dataset-master/dataset-master/JPEGImages'",
      "execution_count": null,
      "outputs": []
    },
    {
      "metadata": {
        "trusted": true,
        "_uuid": "a78c19abff85c9a9b94d4c3fc58caf2cab802e2d"
      },
      "cell_type": "code",
      "source": "#Sample image generation\nimage = cv2.imread(image_path+'/BloodImage_00002.jpg')\ntree = ET.parse(tree_path+'/BloodImage_00002.xml')\ntry:\n    image.shape\n    print(\"Checked for shape. Shape is {}\".format(image.shape))\nexcept AttributeError:\n    print(\"Error: Invalid shape.\")",
      "execution_count": null,
      "outputs": []
    },
    {
      "metadata": {
        "trusted": true,
        "_uuid": "589b420f8ba519dd72db5cd8fca6b9d1fd08011a"
      },
      "cell_type": "code",
      "source": "for elem in tree.iter():\n    if 'object' in elem.tag or 'part' in elem.tag:\n        for attr in list(elem):\n            if 'name' in attr.tag:\n                name = attr.text\n            if 'bndbox' in attr.tag:\n                for dim in list(attr):\n                    if 'xmin' in dim.tag:\n                        xmin = int(round(float(dim.text)))\n                    if 'ymin' in dim.tag:\n                        ymin = int(round(float(dim.text)))\n                    if 'xmax' in dim.tag:\n                        xmax = int(round(float(dim.text)))\n                    if 'ymax' in dim.tag:\n                        ymax = int(round(float(dim.text)))\n                if name[0] == \"R\":\n                    cv2.rectangle(image, (xmin, ymin),\n                                (xmax, ymax), (0, 255, 0), 1)\n                    cv2.putText(image, name, (xmin + 10, ymin + 15),\n                            cv2.FONT_HERSHEY_SIMPLEX, 1e-3 * image.shape[0], (0, 255, 0), 1)\n                if name[0] == \"W\":\n                    cv2.rectangle(image, (xmin, ymin),\n                                (xmax, ymax), (0, 0, 255), 1)\n                    cv2.putText(image, name, (xmin + 10, ymin + 15),\n                            cv2.FONT_HERSHEY_SIMPLEX, 1e-3 * image.shape[0], (0, 0, 255), 1)\n                if name[0] == \"P\":\n                    cv2.rectangle(image, (xmin, ymin),\n                                (xmax, ymax), (255, 0, 0), 1)\n                    cv2.putText(image, name, (xmin + 10, ymin + 15),\n                            cv2.FONT_HERSHEY_SIMPLEX, 1e-3 * image.shape[0], (255, 0, 0), 1)\nplt.figure(figsize=(16,16))\nplt.imshow(image)\nplt.show()",
      "execution_count": null,
      "outputs": []
    },
    {
      "metadata": {
        "scrolled": true,
        "trusted": true,
        "_uuid": "197b673b85705f23d26e1979164f60225ea78548"
      },
      "cell_type": "code",
      "source": "df1 = pd.read_csv('../input/dataset-master/dataset-master/labels.csv')\ndf1 = df1.drop(columns=['Unnamed: 0']).dropna()\ndf1",
      "execution_count": null,
      "outputs": []
    },
    {
      "metadata": {
        "scrolled": true,
        "trusted": true,
        "_uuid": "2daaec06b2cce44cd44e888344f2ef3173df9b60"
      },
      "cell_type": "code",
      "source": "#reader = csv.reader(open('/dataset-master/labels.csv'))\n# skip thev header\ny3 = df1[~df1[\"Category\"].str.contains(\",\", na=False)]['Category']\ny3",
      "execution_count": null,
      "outputs": []
    },
    {
      "metadata": {
        "trusted": true,
        "_uuid": "201f141f7ee779d2049308f5682a80c1c45c97c6"
      },
      "cell_type": "code",
      "source": "encoder = LabelEncoder()\nencoder.fit(y3)\nencoded_y = encoder.transform(y3)\ncounts = np.bincount(encoded_y)\nprint(counts)\nfig, ax = plt.subplots()\nplt.bar(list(range(5)), counts)\nax.set_xticklabels(('', 'Basophil', 'Eosinophil', 'Lymphocyte', 'Monocyte', 'Neutrophil'))\nax.set_ylabel('Number of Cells')",
      "execution_count": null,
      "outputs": []
    },
    {
      "metadata": {
        "trusted": true,
        "_uuid": "d411de9d509ec0df13d6f633e8d69e17746b05d4",
        "scrolled": true
      },
      "cell_type": "code",
      "source": "def get_data(folder):\n    #    Load the data and labels from the given folder.\n    X = []\n    y = []\n    z = []\n    for wbc_type in os.listdir(folder):\n        print(wbc_type)\n        if not wbc_type.startswith('.'):\n            if wbc_type in ['NEUTROPHIL']:\n                label = 1\n                label2 = 1\n            elif wbc_type in ['EOSINOPHIL']:\n                label = 2\n                label2 = 1\n            elif wbc_type in ['MONOCYTE']:\n                label = 3  \n                label2 = 0\n            elif wbc_type in ['LYMPHOCYTE']:\n                label = 4 \n                label2 = 0\n            else:\n                label = 5\n                label2 = 0\n            for image_filename in tqdm(os.listdir(folder + wbc_type)):\n                img_file = cv2.imread(folder + wbc_type + '/' + image_filename)\n                if img_file is not None:\n                    img_file = cv2.resize(img_file, dsize=(80,60), interpolation=cv2.INTER_CUBIC)\n                    img_arr = np.asarray(img_file)\n                    X.append(img_arr)\n                    y.append(label)\n                    z.append(label2)\n    X = np.asarray(X)\n    y = np.asarray(y)\n    z = np.asarray(z)\n    return X,y,z\nX_train, y_train, z_train = get_data('../input/dataset2-master/dataset2-master/images/TRAIN/')\nX_test, y_test, z_test = get_data('../input/dataset2-master/dataset2-master/images/TEST/')\n\n# Encode labels to hot vectors (ex : 2 -> [0,0,1,0,0,0,0,0,0,0])\nfrom keras.utils.np_utils import to_categorical\ny_trainHot = to_categorical(y_train, num_classes = 5)\ny_testHot = to_categorical(y_test, num_classes = 5)\nz_trainHot = to_categorical(z_train, num_classes = 2)\nz_testHot = to_categorical(z_test, num_classes = 2)\nprint(class1)\nprint(class2)",
      "execution_count": null,
      "outputs": []
    },
    {
      "metadata": {
        "trusted": true,
        "_uuid": "c8a5d13dd0bdab99515fc2ced37479cd31401e85"
      },
      "cell_type": "code",
      "source": "def plotHistogram(a):\n    #Plot histogram of RGB Pixel Intensities\n    plt.figure(figsize=(10,5))\n    plt.subplot(1,2,1)\n    plt.imshow(a)\n    plt.axis('off')\n    histo = plt.subplot(1,2,2)\n    histo.set_ylabel('Count')\n    histo.set_xlabel('Pixel Intensity')\n    n_bins = 30\n    plt.hist(a[:,:,0].flatten(), bins= n_bins, lw = 0, color='r', alpha=0.5);\n    plt.hist(a[:,:,1].flatten(), bins= n_bins, lw = 0, color='g', alpha=0.5);\n    plt.hist(a[:,:,2].flatten(), bins= n_bins, lw = 0, color='b', alpha=0.5);\nplotHistogram(X_train[1])",
      "execution_count": null,
      "outputs": []
    },
    {
      "metadata": {
        "trusted": true,
        "_uuid": "b89f3459126d4712dd4a4e3872f51e5c5fa646b6"
      },
      "cell_type": "code",
      "source": "X_train=np.array(X_train)\nX_train=X_train/255.0\nX_test=np.array(X_test)\nX_test=X_test/255.0\nplotHistogram(X_train[1])",
      "execution_count": null,
      "outputs": []
    },
    {
      "metadata": {
        "trusted": true,
        "_uuid": "e70cb8d7c1f224c80702305b1ccc67709a2695fc"
      },
      "cell_type": "code",
      "source": "def rgb_to_grayscale(input):\n    \"\"\"Average out each pixel across its 3 RGB layers resulting in a grayscale image\"\"\"\n    return K.mean(input, axis=3)\ndef rgb_to_grayscale_output_shape(input_shape):\n    return input_shape[:-1]",
      "execution_count": null,
      "outputs": []
    },
    {
      "metadata": {
        "trusted": true,
        "_uuid": "8621dd967df552458429715c3aeb546a6d5dedf9"
      },
      "cell_type": "code",
      "source": "# Helper Functions  Learning Curves and Confusion Matrix\nclass MetricsCheckpoint(Callback):\n    \"\"\"Callback that saves metrics after each epoch\"\"\"\n    def __init__(self, savepath):\n        super(MetricsCheckpoint, self).__init__()\n        self.savepath = savepath\n        self.history = {}\n    def on_epoch_end(self, epoch, logs=None):\n        for k, v in logs.items():\n            self.history.setdefault(k, []).append(v)\n        np.save(self.savepath, self.history)\n\ndef plotKerasLearningCurve():\n    plt.figure(figsize=(10,5))\n    metrics = np.load('logs.npy')[()]\n    filt = ['acc'] # try to add 'loss' to see the loss learning curve\n    for k in filter(lambda x : np.any([kk in x for kk in filt]), metrics.keys()):\n        l = np.array(metrics[k])\n        plt.plot(l, c= 'r' if 'val' not in k else 'b', label='val' if 'val' in k else 'train')\n        x = np.argmin(l) if 'loss' in k else np.argmax(l)\n        y = l[x]\n        plt.scatter(x,y, lw=0, alpha=0.25, s=100, c='r' if 'val' not in k else 'b')\n        plt.text(x, y, '{} = {:.4f}'.format(x,y), size='15', color= 'r' if 'val' not in k else 'b')   \n    plt.legend(loc=4)\n    plt.axis([0, None, None, None]);\n    plt.grid()\n    plt.xlabel('Number of epochs')\n    plt.ylabel('Accuracy')\n\ndef plot_confusion_matrix(cm, classes,\n                          normalize=False,\n                          title='Confusion matrix',\n                          cmap=plt.cm.Blues):\n#This function prints and plots the confusion matrix.\n#Normalization can be applied by setting `normalize=True`.\n\n    plt.figure(figsize = (5,5))\n    plt.imshow(cm, interpolation='nearest', cmap=cmap)\n    plt.title(title)\n    plt.colorbar()\n    tick_marks = np.arange(len(classes))\n    plt.xticks(tick_marks, classes, rotation=90)\n    plt.yticks(tick_marks, classes)\n    if normalize:\n        cm = cm.astype('float') / cm.sum(axis=1)[:, np.newaxis]\n\n    thresh = cm.max() / 2.\n    for i, j in itertools.product(range(cm.shape[0]), range(cm.shape[1])):\n        plt.text(j, i, cm[i, j],\n                 horizontalalignment=\"center\",\n                 color=\"white\" if cm[i, j] > thresh else \"black\")\n    plt.tight_layout()\n    plt.ylabel('True label')\n    plt.xlabel('Predicted label')\n\ndef plot_learning_curve(history):\n    plt.figure(figsize=(8,8))\n    plt.subplot(1,2,1)\n    plt.plot(history.history['acc'])\n    plt.plot(history.history['val_acc'])\n    plt.title('model accuracy')\n    plt.ylabel('accuracy')\n    plt.xlabel('epoch')\n    plt.legend(['train', 'test'], loc='upper left')\n    plt.savefig('./accuracy_curve.png')\n    #plt.clf()\n    # summarize history for loss\n    plt.subplot(1,2,2)\n    plt.plot(history.history['loss'])\n    plt.plot(history.history['val_loss'])\n    plt.title('model loss')\n    plt.ylabel('loss')\n    plt.xlabel('epoch')\n    plt.legend(['train', 'test'], loc='upper left')\n    plt.savefig('./loss_curve.png')",
      "execution_count": null,
      "outputs": []
    },
    {
      "metadata": {
        "trusted": true,
        "_uuid": "462bc1f50138b3748e6adfcce5bdd1b2602386e2"
      },
      "cell_type": "code",
      "source": "def runKerasCNNAugment(a,b,c,d,e, epochs, classes):\n    \n    batch_size = 128\n    num_classes = len(b[0])\n#     img_rows, img_cols = a.shape[1],a.shape[2]\n    img_rows,img_cols=60,80\n    input_shape = (img_rows, img_cols, 3)\n    input_tensor = Input(shape=input_shape)\n    \n    #Creating CNN\n    modelcnn = Sequential()\n    modelcnn.add(Conv2D(32, kernel_size=(3, 3),\n                     activation='relu',\n                     input_shape=input_shape,strides=e))\n    modelcnn.add(Conv2D(64, (3, 3), activation='relu'))\n    modelcnn.add(MaxPooling2D(pool_size=(2, 2)))\n    modelcnn.add(Dropout(0.25))\n    modelcnn.add(Flatten())\n    cnn_output = modelcnn(input_tensor)\n    \n    # Creating RNN    \n    modelrnn = Lambda(rgb_to_grayscale, rgb_to_grayscale_output_shape)(input_tensor)\n    modelrnn = Bidirectional(LSTM(64, return_sequences=True, dropout=0.25, recurrent_dropout=0.25))(modelrnn)\n    rnn_output = Bidirectional(LSTM(64, dropout=0.25, recurrent_dropout=0.25))(modelrnn)\n\n    # Merging both cnn bottleneck and rnn's output wise element wise multiplication\n    merge_layer = concatenate([cnn_output, rnn_output])\n    last_process = Dense(128, activation='relu')(merge_layer)\n    last_process = Dropout(0.5)(last_process)\n    output_tensor = Dense(num_classes, activation='softmax')(last_process)\n    model = Model(input=input_tensor, output=output_tensor)\n    model.compile(loss=keras.losses.categorical_crossentropy, optimizer=keras.optimizers.Adadelta(), metrics=['accuracy'])    \n    datagen = ImageDataGenerator(\n        featurewise_center=False,  # set input mean to 0 over the dataset\n        samplewise_center=False,  # set each sample mean to 0\n        featurewise_std_normalization=False,  # divide inputs by std of the dataset\n        samplewise_std_normalization=False,  # divide each input by its std\n        zca_whitening=False,  # apply ZCA whitening\n        zoom_range=0.1,\n        rotation_range=10,  # randomly rotate images in the range (degrees, 0 to 180)\n        width_shift_range=0.1,  # randomly shift images horizontally (fraction of total width)\n        height_shift_range=0.1,  # randomly shift images vertically (fraction of total height)\n        horizontal_flip=True,  # randomly flip images\n        vertical_flip=False\n        )  # randomly flip images\n    history = model.fit_generator(datagen.flow(a,b, batch_size=32,shuffle=True), steps_per_epoch=len(a) / 32, epochs=epochs, validation_data = [c, d],callbacks = [MetricsCheckpoint('logs')])\n    score = model.evaluate(c,d, verbose=0)\n    print('\\nKeras CNN+RNN accuracy:', score[1],'\\n')\n    y_pred = model.predict(c)\n    map_characters = classes\n    print('\\n', sklearn.metrics.classification_report(np.where(d > 0)[1], np.argmax(y_pred, axis=1), target_names=list(map_characters.values())), sep='')    \n    Y_pred_classes = np.argmax(y_pred,axis=1) \n    Y_true = np.argmax(d,axis=1)\n    plotKerasLearningCurve()\n    plt.show()  \n    plot_learning_curve(history)\n    plt.show()\n    confusion_mtx = confusion_matrix(Y_true, Y_pred_classes) \n    plot_confusion_matrix(confusion_mtx, classes = list(classes.values())) \n    plt.show()",
      "execution_count": null,
      "outputs": []
    },
    {
      "metadata": {
        "trusted": true,
        "_uuid": "cf50cdd92ff19d8a01a8778795822d23d336a303",
        "scrolled": true
      },
      "cell_type": "code",
      "source": "runKerasCNNAugment(X_train,y_trainHot,X_test,y_testHot,1,70, class1)",
      "execution_count": null,
      "outputs": []
    },
    {
      "metadata": {
        "trusted": true,
        "_uuid": "8e96612a9ba4ebeb6f69516d5b1c41445785da05"
      },
      "cell_type": "code",
      "source": "runKerasCNNAugment(X_train,z_trainHot,X_test,z_testHot,2, 70, class2)",
      "execution_count": null,
      "outputs": []
    },
    {
      "metadata": {
        "trusted": true,
        "_uuid": "97644e97cc6efc3192ae9d5ca39e34adf2f3965f"
      },
      "cell_type": "code",
      "source": "",
      "execution_count": null,
      "outputs": []
    },
    {
      "metadata": {
        "trusted": true,
        "_uuid": "51df8a4924747d98735ced2a734bdb8ddfafa9e5"
      },
      "cell_type": "code",
      "source": "",
      "execution_count": null,
      "outputs": []
    },
    {
      "metadata": {
        "trusted": true,
        "_uuid": "ecb99c795764f87afbe6557251d0c692be807564"
      },
      "cell_type": "code",
      "source": "",
      "execution_count": null,
      "outputs": []
    },
    {
      "metadata": {
        "trusted": true,
        "_uuid": "5c24d5cc69c42d7373c4ff96c2c7ccaca5087c26"
      },
      "cell_type": "code",
      "source": "",
      "execution_count": null,
      "outputs": []
    }
  ],
  "metadata": {
    "kernelspec": {
      "display_name": "Python 3",
      "language": "python",
      "name": "python3"
    },
    "language_info": {
      "name": "python",
      "version": "3.6.6",
      "mimetype": "text/x-python",
      "codemirror_mode": {
        "name": "ipython",
        "version": 3
      },
      "pygments_lexer": "ipython3",
      "nbconvert_exporter": "python",
      "file_extension": ".py"
    }
  },
  "nbformat": 4,
  "nbformat_minor": 1
}